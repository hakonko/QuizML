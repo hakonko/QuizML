{
 "cells": [
  {
   "cell_type": "code",
   "execution_count": 1,
   "metadata": {},
   "outputs": [],
   "source": [
    "from pathlib import Path\n",
    "from quiz import Quiz\n",
    "import pandas as pd\n",
    "\n",
    "NUM_PROBLEMS = 3\n",
    "BASE_DIR = Path.cwd().parent\n",
    "\n",
    "USER_FILE = BASE_DIR / 'users' / 'users.csv'\n",
    "QUIZ_FILE = BASE_DIR / 'quiz' / 'quiz_3310.csv'\n",
    "\n",
    "quiz1 = Quiz(NUM_PROBLEMS, USER_FILE, QUIZ_FILE)"
   ]
  },
  {
   "cell_type": "code",
   "execution_count": 2,
   "metadata": {},
   "outputs": [
    {
     "name": "stdout",
     "output_type": "stream",
     "text": [
      "IN3310-Quiz. Number of questions: 4 - Number of genres: 4\n"
     ]
    }
   ],
   "source": [
    "print(quiz1)"
   ]
  },
  {
   "cell_type": "code",
   "execution_count": 3,
   "metadata": {},
   "outputs": [],
   "source": [
    "problem = quiz1.get_problem(0)"
   ]
  },
  {
   "cell_type": "code",
   "execution_count": 5,
   "metadata": {},
   "outputs": [
    {
     "name": "stdout",
     "output_type": "stream",
     "text": [
      "In logistic regression for binary classification, what is the meaning/interpretation of\n",
      "the output of the sigmoid function for an input x?\n"
     ]
    }
   ],
   "source": [
    "print(problem.get_question())"
   ]
  },
  {
   "cell_type": "code",
   "execution_count": 9,
   "metadata": {},
   "outputs": [
    {
     "name": "stdout",
     "output_type": "stream",
     "text": [
      "1 Estimate of parameters w\n",
      "2 Cross-entropy loss value\n",
      "3 Predicted probability $Pr(\\{y=1|x\\})$\n",
      "4 True label\n",
      "5 Bias\n"
     ]
    }
   ],
   "source": [
    "alts = problem.get_alts()\n",
    "for num, alt in enumerate(alts):\n",
    "    print(num+1, alt)"
   ]
  },
  {
   "cell_type": "code",
   "execution_count": 11,
   "metadata": {},
   "outputs": [
    {
     "data": {
      "text/plain": [
       "'_alt3'"
      ]
     },
     "execution_count": 11,
     "metadata": {},
     "output_type": "execute_result"
    }
   ],
   "source": [
    "problem.get_correct_alt()"
   ]
  },
  {
   "cell_type": "code",
   "execution_count": null,
   "metadata": {},
   "outputs": [],
   "source": []
  }
 ],
 "metadata": {
  "kernelspec": {
   "display_name": "Python (letten)",
   "language": "python",
   "name": "letten"
  },
  "language_info": {
   "codemirror_mode": {
    "name": "ipython",
    "version": 3
   },
   "file_extension": ".py",
   "mimetype": "text/x-python",
   "name": "python",
   "nbconvert_exporter": "python",
   "pygments_lexer": "ipython3",
   "version": "3.12.2"
  }
 },
 "nbformat": 4,
 "nbformat_minor": 2
}
